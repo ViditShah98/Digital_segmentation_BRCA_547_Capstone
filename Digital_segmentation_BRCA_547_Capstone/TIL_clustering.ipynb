{
 "cells": [
  {
   "cell_type": "code",
   "execution_count": 1,
   "id": "1c871a20",
   "metadata": {
    "ExecuteTime": {
     "end_time": "2022-03-25T07:49:26.539907Z",
     "start_time": "2022-03-25T07:49:25.462228Z"
    }
   },
   "outputs": [],
   "source": [
    "# We shall use OpenCV for k-means clustering\n",
    "\n",
    "import numpy as np\n",
    "import cv2\n",
    "import matplotlib.pyplot as plt\n",
    "import pandas as pd\n",
    "from tqdm import tqdm\n",
    "import os \n",
    "\n",
    "%matplotlib inline"
   ]
  },
  {
   "cell_type": "code",
   "execution_count": 2,
   "id": "4430a6f2",
   "metadata": {
    "ExecuteTime": {
     "end_time": "2022-03-25T07:49:29.767216Z",
     "start_time": "2022-03-25T07:49:29.758204Z"
    }
   },
   "outputs": [],
   "source": [
    "colors = [np.array([255, 98, 6]), np.array([255, 255, 0]), np.array([4, 217, 255]), \n",
    "          np.array([102, 255, 0]), np.array([0, 27, 148]), np.array([128, 0, 0]),\n",
    "         np.array([1, 50, 32])]"
   ]
  },
  {
   "cell_type": "code",
   "execution_count": 3,
   "id": "35ed95f9",
   "metadata": {
    "ExecuteTime": {
     "end_time": "2022-03-25T07:49:31.046093Z",
     "start_time": "2022-03-25T07:49:31.035091Z"
    }
   },
   "outputs": [],
   "source": [
    "cluster_folder = r'C:/Users/vidit/Documents/UW_Research_Mittal_Lab/Clustering/Models//'\n",
    "extraction_folder = r'C:/Users/vidit/Documents/UW_Research_Mittal_Lab/Clustering/'"
   ]
  },
  {
   "cell_type": "code",
   "execution_count": 4,
   "id": "338c690c",
   "metadata": {
    "ExecuteTime": {
     "end_time": "2022-03-25T07:49:32.448611Z",
     "start_time": "2022-03-25T07:49:31.884576Z"
    }
   },
   "outputs": [],
   "source": [
    "img = cv2.imread('Extracted.tif')"
   ]
  },
  {
   "cell_type": "code",
   "execution_count": 5,
   "id": "7a0815d8",
   "metadata": {
    "ExecuteTime": {
     "end_time": "2022-03-25T07:49:33.925575Z",
     "start_time": "2022-03-25T07:49:33.904607Z"
    }
   },
   "outputs": [],
   "source": [
    "def model(cluster_num):\n",
    "    img2 = img.reshape((-1, 3))\n",
    "    img2 = np.float32(img2)\n",
    "\n",
    "    # We define criteria based on epsilon and number of iterations i.e. whichever is achieved first\n",
    "    criteria = (cv2.TERM_CRITERIA_EPS + cv2.TermCriteria_MAX_ITER, 10, 0.1)\n",
    "\n",
    "    # Number of clusters\n",
    "    k = cluster_num\n",
    "\n",
    "    # Number of attempts (no. of times algo is executed using different labellings)\n",
    "    attempts = 10\n",
    "\n",
    "    # Three outputs\n",
    "    #compact = compactness (sum of squared of distances)\n",
    "    #labels = required labels\n",
    "    #center = center of each cluster\n",
    "\n",
    "    compact, label, center = cv2.kmeans(img2, k, None, criteria, attempts, cv2.KMEANS_RANDOM_CENTERS)\n",
    "\n",
    "    # Converting centers to integers so they can be plotted\n",
    "    center = np.uint8(center)\n",
    "\n",
    "    # Flatteing the label for pixel and then getting the resultant array\n",
    "    res = center[label.flatten()]\n",
    "\n",
    "    # Converting the flat array to original image shape\n",
    "    res = res.reshape((img.shape))\n",
    "\n",
    "    plt.imsave(cluster_folder + str(k) + \"_clusters.jpg\", res)\n",
    "    \n",
    "    return compact"
   ]
  },
  {
   "cell_type": "code",
   "execution_count": 7,
   "id": "cbe7acf0",
   "metadata": {
    "ExecuteTime": {
     "end_time": "2022-03-25T04:52:24.518546Z",
     "start_time": "2022-03-25T04:23:09.779634Z"
    }
   },
   "outputs": [
    {
     "name": "stderr",
     "output_type": "stream",
     "text": [
      "100%|██████████████████████████████████████████████████████████████████████████████████| 18/18 [29:14<00:00, 97.48s/it]\n"
     ]
    }
   ],
   "source": [
    "compactness = []\n",
    "\n",
    "for i in tqdm(range(2, 20)):\n",
    "    c = model(i)\n",
    "    compactness.append(c)"
   ]
  },
  {
   "cell_type": "code",
   "execution_count": 8,
   "id": "12eb67b5",
   "metadata": {
    "ExecuteTime": {
     "end_time": "2022-03-25T04:54:13.421509Z",
     "start_time": "2022-03-25T04:54:12.971013Z"
    }
   },
   "outputs": [
    {
     "data": {
      "text/plain": [
       "<matplotlib.legend.Legend at 0x1ea55aa1a30>"
      ]
     },
     "execution_count": 8,
     "metadata": {},
     "output_type": "execute_result"
    },
    {
     "data": {
      "image/png": "[encoded data removed]",
      "text/plain": [
       "<Figure size 720x576 with 1 Axes>"
      ]
     },
     "metadata": {
      "needs_background": "light"
     },
     "output_type": "display_data"
    }
   ],
   "source": [
    "plt.figure(figsize=(10, 8))\n",
    "plt.scatter(np.linspace(2, 19, 18), compactness, label=\"Elbow_Point_Visualization\")\n",
    "plt.xlabel(\"Clusters\", fontsize=15)\n",
    "plt.ylabel(\"Compactness\", fontsize=15)\n",
    "plt.legend(fontsize=15)"
   ]
  },
  {
   "cell_type": "code",
   "execution_count": 6,
   "id": "af40aa56",
   "metadata": {
    "ExecuteTime": {
     "end_time": "2022-03-25T07:49:37.797181Z",
     "start_time": "2022-03-25T07:49:37.774137Z"
    }
   },
   "outputs": [],
   "source": [
    "# 10 looks like a good enough elbow point\n",
    "\n",
    "def final_model(cluster_num):\n",
    "    img2 = img.reshape((-1, 3))\n",
    "    img2 = np.float32(img2)\n",
    "\n",
    "    # We define criteria based on epsilon and number of iterations i.e. whichever is achieved first\n",
    "    criteria = (cv2.TERM_CRITERIA_EPS + cv2.TermCriteria_MAX_ITER, 10, 0.1)\n",
    "\n",
    "    # Number of clusters\n",
    "    k = cluster_num\n",
    "\n",
    "    # Number of attempts (no. of times algo is executed using different labellings)\n",
    "    attempts = 10\n",
    "\n",
    "    # Three outputs\n",
    "    #compact = compactness (sum of squared of distances)\n",
    "    #labels = required labels\n",
    "    #center = center of each cluster\n",
    "\n",
    "    compact, label, center = cv2.kmeans(img2, k, None, criteria, attempts, cv2.KMEANS_RANDOM_CENTERS)\n",
    "\n",
    "    return label, center"
   ]
  },
  {
   "cell_type": "code",
   "execution_count": 7,
   "id": "36dd472b",
   "metadata": {
    "ExecuteTime": {
     "end_time": "2022-03-25T07:49:45.621446Z",
     "start_time": "2022-03-25T07:49:45.602480Z"
    }
   },
   "outputs": [],
   "source": [
    "def cluster_extraction(cluster_num, tot_clust):\n",
    "    new_center = np.zeros(center.shape)\n",
    "\n",
    "    for i in range(len(center)):\n",
    "        if i == cluster_num:\n",
    "            col = np.random.randint(0, 6)\n",
    "            new_center[i] = colors[col]\n",
    "        else:\n",
    "            new_center[i] = np.array([255, 255, 255])\n",
    "\n",
    "    new_center = np.uint8(new_center)\n",
    "    df = pd.DataFrame(label)\n",
    "    df[0] = df[0].apply(lambda x: cluster_num if x==cluster_num else np.random.randint(0, tot_clust))\n",
    "    lab_new = np.array(df)\n",
    "    new_res = new_center[lab_new.flatten()]\n",
    "    new_res = new_res.reshape((img.shape))\n",
    "    par_dir = r'C:/Users/vidit/Documents/UW_Research_Mittal_Lab/Clustering/'\n",
    "    direc = \"Extractions_\" + str(tot_clust)\n",
    "    path = os.path.join(par_dir, direc)  \n",
    "    plt.imsave(path + \"/Cluster\" + str(cluster_num) + \".jpg\", new_res)"
   ]
  },
  {
   "cell_type": "code",
   "execution_count": 8,
   "id": "05d3a672",
   "metadata": {
    "ExecuteTime": {
     "end_time": "2022-03-25T10:42:12.750243Z",
     "start_time": "2022-03-25T07:50:38.883489Z"
    }
   },
   "outputs": [
    {
     "name": "stderr",
     "output_type": "stream",
     "text": [
      "100%|██████████████████████████████████████████████████████████████████████████████| 10/10 [2:51:33<00:00, 1029.38s/it]\n"
     ]
    }
   ],
   "source": [
    "for i in tqdm(range(10, 20)):\n",
    "    total = i\n",
    "    label, center = final_model(total)\n",
    "    par_dir = r'C:/Users/vidit/Documents/UW_Research_Mittal_Lab/Clustering/'\n",
    "    direc = \"Extractions_\" + str(total)\n",
    "    path = os.path.join(par_dir, direc)  \n",
    "    os.mkdir(path)\n",
    "    for i in range(total):\n",
    "        cluster_extraction(i, total)"
   ]
  },
  {
   "cell_type": "code",
   "execution_count": null,
   "id": "f4645633",
   "metadata": {},
   "outputs": [],
   "source": []
  }
 ],
 "metadata": {
  "kernelspec": {
   "display_name": "Python 3 (ipykernel)",
   "language": "python",
   "name": "python3"
  },
  "language_info": {
   "codemirror_mode": {
    "name": "ipython",
    "version": 3
   },
   "file_extension": ".py",
   "mimetype": "text/x-python",
   "name": "python",
   "nbconvert_exporter": "python",
   "pygments_lexer": "ipython3",
   "version": "3.9.10"
  }
 },
 "nbformat": 4,
 "nbformat_minor": 5
}
