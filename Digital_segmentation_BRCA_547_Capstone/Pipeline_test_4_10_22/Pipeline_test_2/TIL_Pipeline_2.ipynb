{
 "cells": [
  {
   "cell_type": "code",
   "execution_count": 1,
   "metadata": {
    "ExecuteTime": {
     "end_time": "2022-04-05T16:47:16.588155Z",
     "start_time": "2022-04-05T16:47:14.308140Z"
    }
   },
   "outputs": [],
   "source": [
    "# Libraries\n",
    "\n",
    "import os\n",
    "import cv2\n",
    "import numpy as np\n",
    "import pandas as pd\n",
    "from tqdm import tqdm\n",
    "import matplotlib as mpl\n",
    "import matplotlib.pyplot as plt\n",
    "\n",
    "%matplotlib inline"
   ]
  },
  {
   "cell_type": "code",
   "execution_count": 2,
   "metadata": {
    "ExecuteTime": {
     "end_time": "2022-04-05T16:47:18.298172Z",
     "start_time": "2022-04-05T16:47:18.289382Z"
    }
   },
   "outputs": [],
   "source": [
    "# Setting Parameters for Matplotlib\n",
    "\n",
    "mpl.rcParams['lines.linewidth'] = 2\n",
    "mpl.rcParams['figure.figsize'] = (8, 6)\n",
    "mpl.rcParams['font.size'] = 15"
   ]
  },
  {
   "cell_type": "code",
   "execution_count": 3,
   "metadata": {
    "ExecuteTime": {
     "end_time": "2022-04-05T16:47:20.615800Z",
     "start_time": "2022-04-05T16:47:20.601733Z"
    }
   },
   "outputs": [],
   "source": [
    "# Defining colors for clustering\n",
    "\n",
    "colors = [np.array([204, 0, 0]), np.array([204, 204, 0]), np.array([0, 204, 0]), \n",
    "          np.array([0, 153, 153]), np.array([102, 0, 204]), np.array([102, 0, 51]),\n",
    "         np.array([51, 153, 255])] "
   ]
  },
  {
   "cell_type": "code",
   "execution_count": 4,
   "metadata": {
    "ExecuteTime": {
     "end_time": "2022-04-05T16:48:51.630041Z",
     "start_time": "2022-04-05T16:48:51.454533Z"
    }
   },
   "outputs": [],
   "source": [
    "# Importing .tif file\n",
    "\n",
    "img = cv2.imread('test_2.tif')"
   ]
  },
  {
   "cell_type": "markdown",
   "metadata": {},
   "source": [
    "# Individual Cluster Visualization"
   ]
  },
  {
   "cell_type": "code",
   "execution_count": 5,
   "metadata": {
    "ExecuteTime": {
     "end_time": "2022-04-05T16:56:58.679442Z",
     "start_time": "2022-04-05T16:56:58.664413Z"
    }
   },
   "outputs": [],
   "source": [
    "# Defining a path for individual cluster analysis\n",
    "\n",
    "individual_path = \"/Users/yanyaohan/Desktop/Pipeline_test_2/Individual_Clusters/\""
   ]
  },
  {
   "cell_type": "code",
   "execution_count": 6,
   "metadata": {
    "ExecuteTime": {
     "end_time": "2022-04-05T16:57:05.549033Z",
     "start_time": "2022-04-05T16:57:05.525949Z"
    }
   },
   "outputs": [],
   "source": [
    "# Defining a model for a required number of clusters\n",
    "\n",
    "# Three outputs    \n",
    "#compact = compactness (sum of squared of distances) \n",
    "#labels = required labels\n",
    "#center = center of each cluster (represents the color profile)\n",
    "\n",
    "def cluster_model(cluster_num, img=img):\n",
    "    img2 = img.reshape((-1, 3))\n",
    "    img2 = np.float32(img2)\n",
    "\n",
    "    # We define criteria based on epsilon and number of iterations i.e. whichever is achieved first\n",
    "    criteria = (cv2.TERM_CRITERIA_EPS + cv2.TermCriteria_MAX_ITER, 10, 0.1)\n",
    "    # Number of clusters\n",
    "    k = cluster_num\n",
    "    # Number of attempts (no. of times algo is executed using different labellings)\n",
    "    attempts = 10\n",
    "    \n",
    "    compact, label, center = cv2.kmeans(img2, k, None, criteria, attempts, cv2.KMEANS_RANDOM_CENTERS)\n",
    "\n",
    "    return compact, label, center"
   ]
  },
  {
   "cell_type": "code",
   "execution_count": 7,
   "metadata": {
    "ExecuteTime": {
     "end_time": "2022-04-05T16:57:49.853223Z",
     "start_time": "2022-04-05T16:57:17.161561Z"
    }
   },
   "outputs": [],
   "source": [
    "# Lets do it for 19 clusters right now\n",
    "\n",
    "compact_19, label_19, center_19 = cluster_model(19)"
   ]
  },
  {
   "cell_type": "code",
   "execution_count": 8,
   "metadata": {
    "ExecuteTime": {
     "end_time": "2022-04-05T16:57:56.942276Z",
     "start_time": "2022-04-05T16:57:56.922282Z"
    }
   },
   "outputs": [],
   "source": [
    "# Visualizing each individual cluster\n",
    "\n",
    "def single_cluster_extraction(cluster_num, tot_clust, \n",
    "                              center, label):\n",
    "    \n",
    "    new_center = np.zeros(center.shape)\n",
    "\n",
    "    for i in range(len(center)):\n",
    "        if i == cluster_num:\n",
    "            col = np.random.randint(0, 6)\n",
    "            new_center[i] = colors[col]\n",
    "        else:\n",
    "            new_center[i] = np.array([255, 255, 255])\n",
    "\n",
    "    new_center = np.uint8(new_center)\n",
    "    df = pd.DataFrame(label)\n",
    "    df[0] = df[0].apply(lambda x: cluster_num if x==cluster_num else cluster_num-1)\n",
    "    lab_new = np.array(df)\n",
    "    new_res = new_center[lab_new.flatten()]\n",
    "    new_res = new_res.reshape((img.shape))\n",
    "    plt.imsave(individual_path + str(tot_clust) + \n",
    "               \"/Clusters/\" + str(cluster_num) + \n",
    "               \".jpg\", new_res)\n",
    "    \n",
    "    return None"
   ]
  },
  {
   "cell_type": "code",
   "execution_count": 9,
   "metadata": {
    "ExecuteTime": {
     "end_time": "2022-04-05T16:58:38.302735Z",
     "start_time": "2022-04-05T16:58:01.394797Z"
    }
   },
   "outputs": [
    {
     "name": "stderr",
     "output_type": "stream",
     "text": [
      "100%|██████████| 19/19 [00:49<00:00,  2.62s/it]\n"
     ]
    }
   ],
   "source": [
    "# Extracting total number of individual clusters:\n",
    "\n",
    "tot_cluster = 19\n",
    "\n",
    "for clust_num in tqdm(range(tot_cluster)):\n",
    "    single_cluster_extraction(clust_num, tot_cluster,\n",
    "                             center_19, label_19)"
   ]
  },
  {
   "cell_type": "markdown",
   "metadata": {},
   "source": [
    "# Extracting pixels from original image for the cluster that needs to be analyzed"
   ]
  },
  {
   "cell_type": "code",
   "execution_count": 10,
   "metadata": {
    "ExecuteTime": {
     "end_time": "2022-04-05T17:00:22.706977Z",
     "start_time": "2022-04-05T17:00:22.689720Z"
    }
   },
   "outputs": [],
   "source": [
    "# Defining a cluster that extracts a specified cluster from the original image\n",
    "\n",
    "def required_cluster(cluster_num,\n",
    "                     tot_clust,\n",
    "                     label):\n",
    "    img_new = img.reshape((-1, 3))\n",
    "    img_req = np.zeros(img_new.shape)\n",
    "    \n",
    "    for i in range(len(label)):\n",
    "        if label[i] == cluster_num:\n",
    "            img_req[i] = img_new[i]\n",
    "        else:\n",
    "            img_req[i] = np.array([255, 255, 255])\n",
    "                   \n",
    "    plt.imsave(individual_path + str(tot_clust) + \"/required_cluster.jpg\",\n",
    "               np.uint8(img_req.reshape(img.shape)))\n",
    "                   \n",
    "    return None"
   ]
  },
  {
   "cell_type": "code",
   "execution_count": 11,
   "metadata": {
    "ExecuteTime": {
     "end_time": "2022-04-05T17:00:36.864867Z",
     "start_time": "2022-04-05T17:00:23.395667Z"
    }
   },
   "outputs": [],
   "source": [
    "clust_num = 2\n",
    "label = label_19\n",
    "\n",
    "required_cluster(clust_num,\n",
    "                 tot_cluster,\n",
    "                 label_19)"
   ]
  },
  {
   "cell_type": "markdown",
   "metadata": {},
   "source": [
    "# Using the Extracted Cluster Image to make required number of sub-clusters and merging them."
   ]
  },
  {
   "cell_type": "code",
   "execution_count": 12,
   "metadata": {
    "ExecuteTime": {
     "end_time": "2022-04-05T17:01:39.109524Z",
     "start_time": "2022-04-05T17:01:39.028311Z"
    }
   },
   "outputs": [],
   "source": [
    "n_sub_clusters = 4\n",
    "sub_img = cv2.imread(individual_path + str(tot_cluster) + \"/required_cluster.jpg\")"
   ]
  },
  {
   "cell_type": "code",
   "execution_count": 13,
   "metadata": {
    "ExecuteTime": {
     "end_time": "2022-04-05T17:01:55.114635Z",
     "start_time": "2022-04-05T17:01:46.097674Z"
    }
   },
   "outputs": [],
   "source": [
    "# Defining a model for the required number of sub-clusters\n",
    "\n",
    "compact, label, center = cluster_model(n_sub_clusters, img=sub_img)"
   ]
  },
  {
   "cell_type": "code",
   "execution_count": 14,
   "metadata": {
    "ExecuteTime": {
     "end_time": "2022-04-05T17:02:06.105094Z",
     "start_time": "2022-04-05T17:02:06.082516Z"
    }
   },
   "outputs": [],
   "source": [
    "def sub_clusters(n_cluster):\n",
    "    \n",
    "    for cluster_num in tqdm(range(n_cluster)):\n",
    "        new_center = np.zeros(center.shape)\n",
    "        for i in range(len(center)):\n",
    "            if i == cluster_num:\n",
    "                col = np.random.randint(0, 6)\n",
    "                new_center[i] = colors[col]\n",
    "            else:\n",
    "                new_center[i] = np.array([255, 255, 255])\n",
    "\n",
    "        new_center = np.uint8(new_center)\n",
    "        df = pd.DataFrame(label)\n",
    "        df[0] = df[0].apply(lambda x: cluster_num if x==cluster_num else cluster_num-1)\n",
    "        lab_new = np.array(df)\n",
    "        new_res = new_center[lab_new.flatten()]\n",
    "        new_res = new_res.reshape((img.shape))\n",
    "        plt.imsave(individual_path + str(tot_cluster) + \"/\" \n",
    "                   + str(n_cluster) + \"/\" + str(cluster_num) +\n",
    "                   \".jpg\", new_res)\n",
    "    \n",
    "    return None    "
   ]
  },
  {
   "cell_type": "code",
   "execution_count": 15,
   "metadata": {
    "ExecuteTime": {
     "end_time": "2022-04-05T17:04:47.627121Z",
     "start_time": "2022-04-05T17:04:40.095323Z"
    }
   },
   "outputs": [
    {
     "name": "stderr",
     "output_type": "stream",
     "text": [
      "100%|██████████| 4/4 [00:10<00:00,  2.54s/it]\n"
     ]
    }
   ],
   "source": [
    "sub_clusters(n_sub_clusters)"
   ]
  },
  {
   "cell_type": "code",
   "execution_count": 16,
   "metadata": {
    "ExecuteTime": {
     "end_time": "2022-04-05T17:05:19.935029Z",
     "start_time": "2022-04-05T17:05:19.911714Z"
    }
   },
   "outputs": [],
   "source": [
    "# Merging 2 most Relevant Clusters\n",
    "\n",
    "def merge_2_clusters(n_cluster, n1, \n",
    "                     n2, img=sub_img):\n",
    "    \n",
    "    img_new = img.reshape((-1, 3))\n",
    "    img_req = np.zeros(img_new.shape)\n",
    "    \n",
    "    for i in tqdm(range(len(label))):\n",
    "        if label[i] == n1:\n",
    "            img_req[i] = colors[2]\n",
    "        elif label[i] == n2:\n",
    "            img_req[i] = colors[5]\n",
    "        else:\n",
    "            img_req[i] = np.array([255, 255, 255])\n",
    "            \n",
    "    plt.imsave(individual_path + str(tot_cluster) + \"/\" \n",
    "               + str(n_cluster) + \"/merged_image.jpg\", \n",
    "               np.uint8(img_req.reshape(img.shape)))\n",
    "    \n",
    "    return None"
   ]
  },
  {
   "cell_type": "code",
   "execution_count": 17,
   "metadata": {
    "ExecuteTime": {
     "end_time": "2022-04-05T17:05:50.297910Z",
     "start_time": "2022-04-05T17:05:28.775268Z"
    }
   },
   "outputs": [
    {
     "name": "stderr",
     "output_type": "stream",
     "text": [
      "100%|██████████| 9134994/9134994 [00:39<00:00, 229930.23it/s]\n"
     ]
    }
   ],
   "source": [
    "merge_2_clusters(n_sub_clusters, 0, 2)"
   ]
  },
  {
   "cell_type": "markdown",
   "metadata": {},
   "source": [
    "# Overlaying the merged Image with the original Image"
   ]
  },
  {
   "cell_type": "code",
   "execution_count": 18,
   "metadata": {
    "ExecuteTime": {
     "end_time": "2022-04-05T17:06:25.362764Z",
     "start_time": "2022-04-05T17:06:25.129764Z"
    }
   },
   "outputs": [],
   "source": [
    "mer_img = cv2.imread(individual_path + str(tot_cluster) + \"/\" \n",
    "                     + str(n_sub_clusters) + \"/merged_image.jpg\")\n",
    "\n",
    "overlay_img = cv2.addWeighted(img, 0.6, mer_img, 0.4, 0)\n",
    "\n",
    "plt.imsave(individual_path + str(tot_cluster) + \"/\" \n",
    "           + str(n_sub_clusters) + \"/overlay_image.jpg\", \n",
    "           np.uint8(overlay_img.reshape(img.shape)))"
   ]
  },
  {
   "cell_type": "code",
   "execution_count": null,
   "metadata": {},
   "outputs": [],
   "source": []
  }
 ],
 "metadata": {
  "kernelspec": {
   "display_name": "Python 3",
   "language": "python",
   "name": "python3"
  },
  "language_info": {
   "codemirror_mode": {
    "name": "ipython",
    "version": 3
   },
   "file_extension": ".py",
   "mimetype": "text/x-python",
   "name": "python",
   "nbconvert_exporter": "python",
   "pygments_lexer": "ipython3",
   "version": "3.8.5"
  }
 },
 "nbformat": 4,
 "nbformat_minor": 5
}
