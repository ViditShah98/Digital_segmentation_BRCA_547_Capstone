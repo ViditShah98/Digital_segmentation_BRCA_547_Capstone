{
 "cells": [
  {
   "cell_type": "code",
   "execution_count": 12,
   "id": "4119d637",
   "metadata": {
    "ExecuteTime": {
     "end_time": "2022-04-03T21:13:00.596923Z",
     "start_time": "2022-04-03T21:13:00.577092Z"
    }
   },
   "outputs": [],
   "source": [
    "import cv2\n",
    "import numpy as np\n",
    "import matplotlib.pyplot as plt\n",
    "\n",
    "%matplotlib inline"
   ]
  },
  {
   "cell_type": "code",
   "execution_count": 13,
   "id": "379be331",
   "metadata": {
    "ExecuteTime": {
     "end_time": "2022-04-03T21:13:05.554801Z",
     "start_time": "2022-04-03T21:13:05.550802Z"
    }
   },
   "outputs": [],
   "source": [
    "clust_image_par = r'C:/Users/vidit/Documents/UW_Research_Mittal_Lab/Sub_Clusters/Test_13/'"
   ]
  },
  {
   "cell_type": "code",
   "execution_count": 20,
   "id": "c9f8b251",
   "metadata": {
    "ExecuteTime": {
     "end_time": "2022-04-03T21:13:33.035801Z",
     "start_time": "2022-04-03T21:13:32.300681Z"
    }
   },
   "outputs": [],
   "source": [
    "ori_img = cv2.imread(\"Extracted.tif\")\n",
    "clust_image_path = clust_image_par + \"5_Extractions\\multiple_masks.jpg\"\n",
    "cls_img = cv2.imread(clust_image_path)"
   ]
  },
  {
   "cell_type": "code",
   "execution_count": 21,
   "id": "72736d05",
   "metadata": {
    "ExecuteTime": {
     "end_time": "2022-04-03T21:13:33.581801Z",
     "start_time": "2022-04-03T21:13:33.524714Z"
    }
   },
   "outputs": [],
   "source": [
    "final_img = cv2.addWeighted(ori_img, 0.6, cls_img, 0.4, 0)"
   ]
  },
  {
   "cell_type": "code",
   "execution_count": 22,
   "id": "c8a90c1a",
   "metadata": {
    "ExecuteTime": {
     "end_time": "2022-04-03T21:13:40.623463Z",
     "start_time": "2022-04-03T21:13:40.177464Z"
    }
   },
   "outputs": [
    {
     "data": {
      "text/plain": [
       "True"
      ]
     },
     "execution_count": 22,
     "metadata": {},
     "output_type": "execute_result"
    }
   ],
   "source": [
    "cv2.imwrite(r'C:\\Users\\vidit\\Documents\\UW_Research_Mittal_Lab\\Sub_Clusters\\Test_13\\5_Extractions\\overlay_5.jpg', final_img)"
   ]
  },
  {
   "cell_type": "code",
   "execution_count": null,
   "id": "9f7a8680",
   "metadata": {},
   "outputs": [],
   "source": []
  }
 ],
 "metadata": {
  "kernelspec": {
   "display_name": "Python 3 (ipykernel)",
   "language": "python",
   "name": "python3"
  },
  "language_info": {
   "codemirror_mode": {
    "name": "ipython",
    "version": 3
   },
   "file_extension": ".py",
   "mimetype": "text/x-python",
   "name": "python",
   "nbconvert_exporter": "python",
   "pygments_lexer": "ipython3",
   "version": "3.9.10"
  }
 },
 "nbformat": 4,
 "nbformat_minor": 5
}
