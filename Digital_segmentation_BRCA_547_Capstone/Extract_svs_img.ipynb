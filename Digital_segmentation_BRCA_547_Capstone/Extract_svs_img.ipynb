{
 "cells": [
  {
   "cell_type": "code",
   "execution_count": null,
   "id": "a584be54",
   "metadata": {},
   "outputs": [],
   "source": [
    "import os, sys, pdb\n",
    "import numpy as np\n",
    "from scipy import misc\n",
    "import matplotlib.pyplot as plt\n",
    "from skimage import io\n",
    "import openslide\n",
    "import argparse"
   ]
  },
  {
   "cell_type": "code",
   "execution_count": 1,
   "id": "8091220b",
   "metadata": {},
   "outputs": [],
   "source": [
    "from cluster import overlay_image"
   ]
  },
  {
   "cell_type": "markdown",
   "id": "9a8e1432",
   "metadata": {},
   "source": [
    "# Defining a function to extract images"
   ]
  },
  {
   "cell_type": "code",
   "execution_count": null,
   "id": "920c90b4",
   "metadata": {},
   "outputs": [],
   "source": [
    "def extract_svs_img(slide_filename):\n",
    "    \n",
    "    # Creating a new file for extracted images\n",
    "    new_file_path = os.getcwd() + \"\\\\\" + \"Clusters\"\n",
    "    os.mkdir(new_file_path)    \n",
    "    \n",
    "    # Opening the svs file and get the width and height of the image\n",
    "    slide_file = openslide.OpenSlide(slide_filename)\n",
    "    slide_width, slide_height = slide_file.dimensions \n",
    "    \n",
    "    # Determining the size of the images to be extracted\n",
    "    x_tile_size = 4000\n",
    "    y_tile_size = 3000    \n",
    "    \n",
    "    slide_img = np.zeros((y_tile_size, x_tile_size, 3), np.uint8)\n",
    "    \n",
    "    # Calculating the number of extracted images according to the size of the original image\n",
    "    x_tile_num = int(np.floor((slide_width - x_tile_size - 1) / (x_tile_size * 0.9))) + 2\n",
    "    y_tile_num = int(np.floor((slide_height - y_tile_size - 1) / (y_tile_size * 0.9))) + 2        \n",
    "    \n",
    "    p_num = 1 #for naming\n",
    "\n",
    "    # Left to right and top to bottom\n",
    "    for iy in range(y_tile_num):\n",
    "        for ix in range(x_tile_num):\n",
    "            \n",
    "            # Coordinates of the upper left corner of each image\n",
    "            start_x = int(ix * x_tile_size * 0.9) if (ix + 1) < x_tile_num else (slide_width - x_tile_size) \n",
    "            start_y = int(iy * y_tile_size * 0.9) if (iy + 1) < y_tile_num else (slide_height - y_tile_size) \n",
    "            \n",
    "            # Reading the image to be extracted\n",
    "            cur_tile = np.array(slide_file.read_region((start_x, start_y), 0, (x_tile_size, y_tile_size)))\n",
    "            slide_img = np.array(cur_tile)[:,:,:3]\n",
    "            \n",
    "            # Naming and saving\n",
    "            slide_savename = os.path.splitext(slide_filename)[0] + '_P{p_num}'.format(p_num = p_num) + '.tif'\n",
    "            io.imsave(new_file_path + \"\\\\\" + slide_savename, slide_img)\n",
    "            \n",
    "            p_num += 1"
   ]
  },
  {
   "cell_type": "code",
   "execution_count": null,
   "id": "517aca27",
   "metadata": {},
   "outputs": [],
   "source": [
    "def extract_svs_img(slide_filename):\n",
    "    \n",
    "    # Creating a new file for extracted images\n",
    "    new_file_path = os.getcwd() + \"\\\\\" + \"Clusters\"\n",
    "    os.mkdir(new_file_path)    \n",
    "    \n",
    "    # Opening the svs file and get the width and height of the image\n",
    "    slide_file = openslide.OpenSlide(slide_filename)\n",
    "    slide_width, slide_height = slide_file.dimensions \n",
    "    \n",
    "    # Determining the size of the images to be extracted\n",
    "    x_tile_size = 4000\n",
    "    y_tile_size = 3000    \n",
    "    \n",
    "    slide_img = np.zeros((y_tile_size, x_tile_size, 3), np.uint8)\n",
    "    \n",
    "    # Calculating the number of extracted images according to the size of the original image\n",
    "    x_tile_num = int(np.floor((slide_width - x_tile_size - 1) / (x_tile_size * 0.9))) + 2\n",
    "    y_tile_num = int(np.floor((slide_height - y_tile_size - 1) / (y_tile_size * 0.9))) + 2        \n",
    "    \n",
    "    p_num = 1 #for naming\n",
    "\n",
    "    # Left to right and top to bottom\n",
    "    for iy in range(y_tile_num):\n",
    "        for ix in range(x_tile_num):\n",
    "            \n",
    "            # Coordinates of the upper left corner of each image\n",
    "            start_x = int(ix * x_tile_size * 0.9) if (ix + 1) < x_tile_num else (slide_width - x_tile_size) \n",
    "            start_y = int(iy * y_tile_size * 0.9) if (iy + 1) < y_tile_num else (slide_height - y_tile_size) \n",
    "            \n",
    "            # Reading the image to be extracted\n",
    "            cur_tile = np.array(slide_file.read_region((start_x, start_y), 0, (x_tile_size, y_tile_size)))\n",
    "            slide_img = np.array(cur_tile)[:,:,:3]\n",
    "            \n",
    "            # Naming and saving\n",
    "            slide_savename = os.path.splitext(slide_filename)[0] + '_P{p_num}'.format(p_num = p_num) + '.tif'\n",
    "            io.imsave(new_file_path + \"\\\\\" + slide_savename, slide_img)\n",
    "            \n",
    "            p_num += 1"
   ]
  },
  {
   "cell_type": "code",
   "execution_count": null,
   "id": "be4e68ab",
   "metadata": {},
   "outputs": [],
   "source": [
    "# Filling in the file name manually\n",
    "extract_svs_img(filename)"
   ]
  }
 ],
 "metadata": {
  "kernelspec": {
   "display_name": "Python 3",
   "language": "python",
   "name": "python3"
  },
  "language_info": {
   "codemirror_mode": {
    "name": "ipython",
    "version": 3
   },
   "file_extension": ".py",
   "mimetype": "text/x-python",
   "name": "python",
   "nbconvert_exporter": "python",
   "pygments_lexer": "ipython3",
   "version": "3.8.8"
  }
 },
 "nbformat": 4,
 "nbformat_minor": 5
}
