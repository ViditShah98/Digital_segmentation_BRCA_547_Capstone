{
 "cells": [
  {
   "cell_type": "code",
   "execution_count": 26,
   "id": "a2fe1c74",
   "metadata": {
    "ExecuteTime": {
     "end_time": "2022-04-03T20:47:37.578317Z",
     "start_time": "2022-04-03T20:47:37.559315Z"
    }
   },
   "outputs": [],
   "source": [
    "import cv2\n",
    "import numpy as np\n",
    "import pandas as pd\n",
    "from tqdm import tqdm\n",
    "import matplotlib.pyplot as plt"
   ]
  },
  {
   "cell_type": "code",
   "execution_count": 27,
   "id": "a9f39672",
   "metadata": {
    "ExecuteTime": {
     "end_time": "2022-04-03T20:47:39.983756Z",
     "start_time": "2022-04-03T20:47:39.964751Z"
    }
   },
   "outputs": [],
   "source": [
    "colors = [np.array([255, 98, 6]), np.array([255, 255, 0]), np.array([4, 217, 255]), \n",
    "          np.array([102, 255, 0]), np.array([0, 27, 148]), np.array([128, 0, 0]),\n",
    "         np.array([1, 50, 32])]"
   ]
  },
  {
   "cell_type": "code",
   "execution_count": 28,
   "id": "c10e7328",
   "metadata": {
    "ExecuteTime": {
     "end_time": "2022-04-03T20:47:41.002023Z",
     "start_time": "2022-04-03T20:47:40.445435Z"
    }
   },
   "outputs": [],
   "source": [
    "img = cv2.imread('Extracted.tif')"
   ]
  },
  {
   "cell_type": "code",
   "execution_count": 29,
   "id": "a8af8521",
   "metadata": {
    "ExecuteTime": {
     "end_time": "2022-04-03T20:47:42.689900Z",
     "start_time": "2022-04-03T20:47:42.680894Z"
    }
   },
   "outputs": [],
   "source": [
    "# We first fit the model for the required number of clusters\n",
    "\n",
    "def model(cluster_num, img):\n",
    "    img2 = img.reshape((-1, 3))\n",
    "    img2 = np.float32(img2)\n",
    "\n",
    "    # We define criteria based on epsilon and number of iterations i.e. whichever is achieved first\n",
    "    criteria = (cv2.TERM_CRITERIA_EPS + cv2.TermCriteria_MAX_ITER, 10, 0.1)\n",
    "\n",
    "    # Number of clusters\n",
    "    k = cluster_num\n",
    "\n",
    "    # Number of attempts (no. of times algo is executed using different labellings)\n",
    "    attempts = 10\n",
    "\n",
    "    # Three outputs\n",
    "    #compact = compactness (sum of squared of distances)\n",
    "    #labels = required labels\n",
    "    #center = center of each cluster\n",
    "\n",
    "    compact, label, center = cv2.kmeans(img2, k, None, criteria, attempts, cv2.KMEANS_RANDOM_CENTERS)\n",
    "    \n",
    "    return compact, label, center"
   ]
  },
  {
   "cell_type": "code",
   "execution_count": 30,
   "id": "d866a5a5",
   "metadata": {
    "ExecuteTime": {
     "end_time": "2022-04-03T20:49:57.195276Z",
     "start_time": "2022-04-03T20:47:54.555784Z"
    }
   },
   "outputs": [
    {
     "name": "stderr",
     "output_type": "stream",
     "text": [
      "100%|████████████████████████████████████████████████████████████████████████████████████████████| 3/3 [00:00<?, ?it/s]\n"
     ]
    }
   ],
   "source": [
    "compact, label, center = tqdm(model(13, img))"
   ]
  },
  {
   "cell_type": "code",
   "execution_count": 31,
   "id": "2f5fcf07",
   "metadata": {
    "ExecuteTime": {
     "end_time": "2022-04-03T20:52:57.176401Z",
     "start_time": "2022-04-03T20:52:57.153375Z"
    }
   },
   "outputs": [],
   "source": [
    "# Visualizing the clusters to check which cluster we need to make a sub-clusters for:\n",
    "\n",
    "def cluster_extraction(cluster_num, tot_clust, \n",
    "                       center=center, label=label):\n",
    "    new_center = np.zeros(center.shape)\n",
    "\n",
    "    for i in range(len(center)):\n",
    "        if i == cluster_num:\n",
    "            col = np.random.randint(0, 6)\n",
    "            new_center[i] = colors[col]\n",
    "        else:\n",
    "            new_center[i] = np.array([255, 255, 255])\n",
    "\n",
    "    new_center = np.uint8(new_center)\n",
    "    df = pd.DataFrame(label)\n",
    "    df[0] = df[0].apply(lambda x: cluster_num if x==cluster_num else cluster_num-1)\n",
    "    lab_new = np.array(df)\n",
    "    new_res = new_center[lab_new.flatten()]\n",
    "    new_res = new_res.reshape((img.shape))\n",
    "    path = r'C:\\Users\\vidit\\Documents\\UW_Research_Mittal_Lab\\Sub_Clusters\\Test_13\\Clusters\\\\'\n",
    "    plt.imsave(path + \"Cluster\" + str(cluster_num) + \".jpg\", new_res)"
   ]
  },
  {
   "cell_type": "code",
   "execution_count": 32,
   "id": "87bc9a4e",
   "metadata": {
    "ExecuteTime": {
     "end_time": "2022-04-03T20:54:49.178751Z",
     "start_time": "2022-04-03T20:53:04.303752Z"
    }
   },
   "outputs": [
    {
     "name": "stderr",
     "output_type": "stream",
     "text": [
      "100%|██████████████████████████████████████████████████████████████████████████████████| 13/13 [01:44<00:00,  8.07s/it]\n"
     ]
    }
   ],
   "source": [
    "for i in tqdm(range(13)):\n",
    "    cluster_extraction(i, 13)"
   ]
  },
  {
   "cell_type": "code",
   "execution_count": 33,
   "id": "91363347",
   "metadata": {
    "ExecuteTime": {
     "end_time": "2022-04-03T20:55:17.900468Z",
     "start_time": "2022-04-03T20:55:17.878475Z"
    }
   },
   "outputs": [
    {
     "data": {
      "text/plain": [
       "(18828339, 3)"
      ]
     },
     "execution_count": 33,
     "metadata": {},
     "output_type": "execute_result"
    }
   ],
   "source": [
    "# Reshaping our original image for future analysis\n",
    "\n",
    "img_new = img.reshape((-1, 3))\n",
    "img_new.shape"
   ]
  },
  {
   "cell_type": "code",
   "execution_count": 34,
   "id": "315c6711",
   "metadata": {
    "ExecuteTime": {
     "end_time": "2022-04-03T20:56:50.560059Z",
     "start_time": "2022-04-03T20:55:39.683374Z"
    }
   },
   "outputs": [
    {
     "name": "stderr",
     "output_type": "stream",
     "text": [
      "100%|██████████████████████████████████████████████████████████████████| 18828339/18828339 [01:10<00:00, 265911.78it/s]\n"
     ]
    }
   ],
   "source": [
    "# Now we create a new image that has pixels only for cluster 6 with the colors of original image:\n",
    "\n",
    "img_req = np.zeros(img_new.shape)\n",
    "for i in tqdm(range(len(label))):\n",
    "    if label[i] == 4:\n",
    "        img_req[i] = img_new[i]\n",
    "    else:\n",
    "        img_req[i] = np.array([255, 255, 255])"
   ]
  },
  {
   "cell_type": "code",
   "execution_count": 35,
   "id": "7953ff14",
   "metadata": {
    "ExecuteTime": {
     "end_time": "2022-04-03T20:56:56.947686Z",
     "start_time": "2022-04-03T20:56:56.490898Z"
    }
   },
   "outputs": [],
   "source": [
    "# Reshaping the image file and saving it\n",
    "\n",
    "plt.imsave(r'C:\\Users\\vidit\\Documents\\UW_Research_Mittal_Lab\\Sub_Clusters\\Test_13\\Required_Cluster.jpg',\n",
    "           np.uint8(img_req.reshape(img.shape)))"
   ]
  },
  {
   "cell_type": "code",
   "execution_count": 36,
   "id": "e80a159e",
   "metadata": {
    "ExecuteTime": {
     "end_time": "2022-04-03T20:57:23.892793Z",
     "start_time": "2022-04-03T20:57:23.662756Z"
    }
   },
   "outputs": [],
   "source": [
    "# Making sub-clusters of the required cluster (We will be making 3, 4 and 5 sub-clusters only)\n",
    "\n",
    "sub_img = cv2.imread('./Sub_Clusters/Test_13/Required_Cluster.jpg')"
   ]
  },
  {
   "cell_type": "code",
   "execution_count": 37,
   "id": "a55ffab9",
   "metadata": {
    "ExecuteTime": {
     "end_time": "2022-04-03T20:58:00.728680Z",
     "start_time": "2022-04-03T20:57:24.787582Z"
    }
   },
   "outputs": [],
   "source": [
    "compact_3, label_3, center_3 = model(3, sub_img)"
   ]
  },
  {
   "cell_type": "code",
   "execution_count": 38,
   "id": "43de9c6b",
   "metadata": {
    "ExecuteTime": {
     "end_time": "2022-04-03T20:58:41.682679Z",
     "start_time": "2022-04-03T20:58:00.731593Z"
    }
   },
   "outputs": [],
   "source": [
    "compact_4, label_4, center_4 = model(4, sub_img)"
   ]
  },
  {
   "cell_type": "code",
   "execution_count": 39,
   "id": "d528545d",
   "metadata": {
    "ExecuteTime": {
     "end_time": "2022-04-03T20:59:27.969672Z",
     "start_time": "2022-04-03T20:58:41.685586Z"
    }
   },
   "outputs": [],
   "source": [
    "compact_5, label_5, center_5 = model(5, sub_img)"
   ]
  },
  {
   "cell_type": "code",
   "execution_count": 40,
   "id": "1950552b",
   "metadata": {
    "ExecuteTime": {
     "end_time": "2022-04-03T20:59:34.122992Z",
     "start_time": "2022-04-03T20:59:34.104001Z"
    }
   },
   "outputs": [],
   "source": [
    "# Visualizing the clusters to check which cluster we need to make a sub-clusters for:\n",
    "\n",
    "def sub_cluster_extraction(cluster_num, tot_clust, \n",
    "                           center=center, label=label):\n",
    "    new_center = np.zeros(center.shape)\n",
    "\n",
    "    for i in range(len(center)):\n",
    "        if i == cluster_num:\n",
    "            col = np.random.randint(0, 6)\n",
    "            new_center[i] = colors[col]\n",
    "        else:\n",
    "            new_center[i] = np.array([255, 255, 255])\n",
    "\n",
    "    new_center = np.uint8(new_center)\n",
    "    df = pd.DataFrame(label)\n",
    "    df[0] = df[0].apply(lambda x: cluster_num if x==cluster_num else cluster_num-1)\n",
    "    lab_new = np.array(df)\n",
    "    new_res = new_center[lab_new.flatten()]\n",
    "    new_res = new_res.reshape((img.shape))\n",
    "    path = r'C:\\Users\\vidit\\Documents\\UW_Research_Mittal_Lab\\Sub_Clusters\\Test_13\\3_Extractions\\\\'\n",
    "    plt.imsave(path + \"Cluster\" + str(cluster_num) + \".jpg\", new_res)"
   ]
  },
  {
   "cell_type": "code",
   "execution_count": 41,
   "id": "eba9da86",
   "metadata": {
    "ExecuteTime": {
     "end_time": "2022-04-03T21:00:04.261572Z",
     "start_time": "2022-04-03T20:59:39.393277Z"
    }
   },
   "outputs": [
    {
     "name": "stderr",
     "output_type": "stream",
     "text": [
      "100%|████████████████████████████████████████████████████████████████████████████████████| 3/3 [00:24<00:00,  8.28s/it]\n"
     ]
    }
   ],
   "source": [
    "# Visualizing the clusters for the above models (i.e. 3, 4 and 5 clusters)\n",
    "\n",
    "for i in tqdm(range(3)):\n",
    "    sub_cluster_extraction(i, 3, center_3, label_3)"
   ]
  },
  {
   "cell_type": "code",
   "execution_count": 42,
   "id": "404e960a",
   "metadata": {
    "ExecuteTime": {
     "end_time": "2022-04-03T21:00:07.238974Z",
     "start_time": "2022-04-03T21:00:07.214961Z"
    }
   },
   "outputs": [],
   "source": [
    "# Visualizing the clusters to check which cluster we need to make a sub-clusters for:\n",
    "\n",
    "def sub_cluster_extraction(cluster_num, tot_clust, \n",
    "                           center=center, label=label):\n",
    "    new_center = np.zeros(center.shape)\n",
    "\n",
    "    for i in range(len(center)):\n",
    "        if i == cluster_num:\n",
    "            col = np.random.randint(0, 6)\n",
    "            new_center[i] = colors[col]\n",
    "        else:\n",
    "            new_center[i] = np.array([255, 255, 255])\n",
    "\n",
    "    new_center = np.uint8(new_center)\n",
    "    df = pd.DataFrame(label)\n",
    "    df[0] = df[0].apply(lambda x: cluster_num if x==cluster_num else cluster_num-1)\n",
    "    lab_new = np.array(df)\n",
    "    new_res = new_center[lab_new.flatten()]\n",
    "    new_res = new_res.reshape((img.shape))\n",
    "    path = r'C:\\Users\\vidit\\Documents\\UW_Research_Mittal_Lab\\Sub_Clusters\\Test_13\\4_Extractions\\\\'\n",
    "    plt.imsave(path + \"Cluster\" + str(cluster_num) + \".jpg\", new_res)"
   ]
  },
  {
   "cell_type": "code",
   "execution_count": 43,
   "id": "7e40cda0",
   "metadata": {
    "ExecuteTime": {
     "end_time": "2022-04-03T21:00:43.321819Z",
     "start_time": "2022-04-03T21:00:10.038708Z"
    }
   },
   "outputs": [
    {
     "name": "stderr",
     "output_type": "stream",
     "text": [
      "100%|████████████████████████████████████████████████████████████████████████████████████| 4/4 [00:33<00:00,  8.32s/it]\n"
     ]
    }
   ],
   "source": [
    "for i in tqdm(range(4)):\n",
    "    sub_cluster_extraction(i, 4, center_4, label_4)"
   ]
  },
  {
   "cell_type": "code",
   "execution_count": 44,
   "id": "102dae4b",
   "metadata": {
    "ExecuteTime": {
     "end_time": "2022-04-03T21:00:55.273012Z",
     "start_time": "2022-04-03T21:00:55.251017Z"
    }
   },
   "outputs": [],
   "source": [
    "# Visualizing the clusters to check which cluster we need to make a sub-clusters for:\n",
    "\n",
    "def sub_cluster_extraction(cluster_num, tot_clust, \n",
    "                           center=center, label=label):\n",
    "    new_center = np.zeros(center.shape)\n",
    "\n",
    "    for i in range(len(center)):\n",
    "        if i == cluster_num:\n",
    "            col = np.random.randint(0, 6)\n",
    "            new_center[i] = colors[col]\n",
    "        else:\n",
    "            new_center[i] = np.array([255, 255, 255])\n",
    "\n",
    "    new_center = np.uint8(new_center)\n",
    "    df = pd.DataFrame(label)\n",
    "    df[0] = df[0].apply(lambda x: cluster_num if x==cluster_num else cluster_num-1)\n",
    "    lab_new = np.array(df)\n",
    "    new_res = new_center[lab_new.flatten()]\n",
    "    new_res = new_res.reshape((img.shape))\n",
    "    path = r'C:\\Users\\vidit\\Documents\\UW_Research_Mittal_Lab\\Sub_Clusters\\Test_13\\5_Extractions\\\\'\n",
    "    plt.imsave(path + \"Cluster\" + str(cluster_num) + \".jpg\", new_res)"
   ]
  },
  {
   "cell_type": "code",
   "execution_count": 45,
   "id": "21a32144",
   "metadata": {
    "ExecuteTime": {
     "end_time": "2022-04-03T21:01:39.214351Z",
     "start_time": "2022-04-03T21:00:56.761891Z"
    }
   },
   "outputs": [
    {
     "name": "stderr",
     "output_type": "stream",
     "text": [
      "100%|████████████████████████████████████████████████████████████████████████████████████| 5/5 [00:42<00:00,  8.49s/it]\n"
     ]
    }
   ],
   "source": [
    "for i in tqdm(range(5)):\n",
    "    sub_cluster_extraction(i, 5, center_5, label_5)"
   ]
  },
  {
   "cell_type": "code",
   "execution_count": 46,
   "id": "b8b16ea4",
   "metadata": {
    "ExecuteTime": {
     "end_time": "2022-04-03T21:03:58.261354Z",
     "start_time": "2022-04-03T21:02:25.489504Z"
    }
   },
   "outputs": [
    {
     "name": "stderr",
     "output_type": "stream",
     "text": [
      "100%|██████████████████████████████████████████████████████████████████| 18828339/18828339 [01:32<00:00, 203106.40it/s]\n"
     ]
    }
   ],
   "source": [
    "# Now we create a new image that has extracted pixels without the background for all the extractions:\n",
    "\n",
    "img_req = np.zeros(img_new.shape)\n",
    "for i in tqdm(range(len(label_3))):\n",
    "    if label_3[i] == 1:\n",
    "        img_req[i] = colors[2]\n",
    "    elif label_3[i] == 2:\n",
    "        img_req[i] = colors[5]\n",
    "    else:\n",
    "        img_req[i] = np.array([255, 255, 255])"
   ]
  },
  {
   "cell_type": "code",
   "execution_count": 47,
   "id": "63fda1b0",
   "metadata": {
    "ExecuteTime": {
     "end_time": "2022-04-03T21:05:44.972819Z",
     "start_time": "2022-04-03T21:05:44.483723Z"
    }
   },
   "outputs": [],
   "source": [
    "# Reshaping the image file and saving it\n",
    "\n",
    "plt.imsave(r'C:\\Users\\vidit\\Documents\\UW_Research_Mittal_Lab\\Sub_Clusters\\Test_13\\3_Extractions\\multiple_masks.jpg',\n",
    "           np.uint8(img_req.reshape(img.shape)))"
   ]
  },
  {
   "cell_type": "code",
   "execution_count": 48,
   "id": "f4cee1b4",
   "metadata": {
    "ExecuteTime": {
     "end_time": "2022-04-03T21:08:32.850892Z",
     "start_time": "2022-04-03T21:06:31.075125Z"
    }
   },
   "outputs": [
    {
     "name": "stderr",
     "output_type": "stream",
     "text": [
      "100%|██████████████████████████████████████████████████████████████████| 18828339/18828339 [02:01<00:00, 154716.40it/s]\n"
     ]
    }
   ],
   "source": [
    "# Now we create a new image that has extracted pixels without the background for all the extractions:\n",
    "\n",
    "img_req = np.zeros(img_new.shape)\n",
    "for i in tqdm(range(len(label_4))):\n",
    "    if label_4[i] == 0:\n",
    "        img_req[i] = colors[0]\n",
    "    elif label_4[i] == 2:\n",
    "        img_req[i] = colors[3]\n",
    "    elif label_4[i] == 3:\n",
    "        img_req[i] = colors[6]\n",
    "    else:\n",
    "        img_req[i] = np.array([255, 255, 255])"
   ]
  },
  {
   "cell_type": "code",
   "execution_count": 49,
   "id": "5ca16dfe",
   "metadata": {
    "ExecuteTime": {
     "end_time": "2022-04-03T21:08:33.348938Z",
     "start_time": "2022-04-03T21:08:32.854903Z"
    }
   },
   "outputs": [],
   "source": [
    "# Reshaping the image file and saving it\n",
    "\n",
    "plt.imsave(r'C:\\Users\\vidit\\Documents\\UW_Research_Mittal_Lab\\Sub_Clusters\\Test_13\\4_Extractions\\multiple_masks.jpg',\n",
    "           np.uint8(img_req.reshape(img.shape)))"
   ]
  },
  {
   "cell_type": "code",
   "execution_count": 50,
   "id": "ef282f8f",
   "metadata": {
    "ExecuteTime": {
     "end_time": "2022-04-03T21:11:06.544510Z",
     "start_time": "2022-04-03T21:08:33.351901Z"
    }
   },
   "outputs": [
    {
     "name": "stderr",
     "output_type": "stream",
     "text": [
      "100%|██████████████████████████████████████████████████████████████████| 18828339/18828339 [02:33<00:00, 122956.12it/s]\n"
     ]
    }
   ],
   "source": [
    "# Now we create a new image that has extracted pixels without the background for all the extractions:\n",
    "\n",
    "img_req = np.zeros(img_new.shape)\n",
    "for i in tqdm(range(len(label_5))):\n",
    "    if label_5[i] == 0:\n",
    "        img_req[i] = colors[0]\n",
    "    elif label_5[i] == 2:\n",
    "        img_req[i] = colors[2]\n",
    "    elif label_5[i] == 3:\n",
    "        img_req[i] = colors[4]\n",
    "    elif label_5[i] == 4:\n",
    "        img_req[i] = colors[6]\n",
    "    else:\n",
    "        img_req[i] = np.array([255, 255, 255])"
   ]
  },
  {
   "cell_type": "code",
   "execution_count": 51,
   "id": "0824e608",
   "metadata": {
    "ExecuteTime": {
     "end_time": "2022-04-03T21:11:07.215417Z",
     "start_time": "2022-04-03T21:11:06.548455Z"
    }
   },
   "outputs": [],
   "source": [
    "# Reshaping the image file and saving it\n",
    "\n",
    "plt.imsave(r'C:\\Users\\vidit\\Documents\\UW_Research_Mittal_Lab\\Sub_Clusters\\Test_13\\5_Extractions\\multiple_masks.jpg',\n",
    "           np.uint8(img_req.reshape(img.shape)))"
   ]
  },
  {
   "cell_type": "code",
   "execution_count": null,
   "id": "b19fe873",
   "metadata": {},
   "outputs": [],
   "source": []
  }
 ],
 "metadata": {
  "kernelspec": {
   "display_name": "Python 3 (ipykernel)",
   "language": "python",
   "name": "python3"
  },
  "language_info": {
   "codemirror_mode": {
    "name": "ipython",
    "version": 3
   },
   "file_extension": ".py",
   "mimetype": "text/x-python",
   "name": "python",
   "nbconvert_exporter": "python",
   "pygments_lexer": "ipython3",
   "version": "3.9.10"
  }
 },
 "nbformat": 4,
 "nbformat_minor": 5
}
