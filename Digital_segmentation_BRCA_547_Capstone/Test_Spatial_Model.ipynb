{
 "cells": [
  {
   "cell_type": "code",
   "execution_count": 131,
   "id": "5ef19796",
   "metadata": {
    "ExecuteTime": {
     "end_time": "2022-04-06T21:47:59.072051Z",
     "start_time": "2022-04-06T21:47:59.050021Z"
    }
   },
   "outputs": [],
   "source": [
    "# Libraries\n",
    "\n",
    "import os\n",
    "import cv2\n",
    "import numpy as np\n",
    "import pandas as pd\n",
    "from tqdm import tqdm\n",
    "import matplotlib as mpl\n",
    "import matplotlib.pyplot as plt\n",
    "\n",
    "%matplotlib inline"
   ]
  },
  {
   "cell_type": "code",
   "execution_count": 132,
   "id": "3770f7a3",
   "metadata": {
    "ExecuteTime": {
     "end_time": "2022-04-06T21:47:59.728444Z",
     "start_time": "2022-04-06T21:47:59.558700Z"
    }
   },
   "outputs": [],
   "source": [
    "img = cv2.imread(\"C:/Users/vidit/Documents/UW_Research_Mittal_Lab/Pipeline_Test_4_4_22/Individual_Clusters/19/required_cluster.jpg\")"
   ]
  },
  {
   "cell_type": "code",
   "execution_count": 133,
   "id": "5c9585b5",
   "metadata": {
    "ExecuteTime": {
     "end_time": "2022-04-06T21:48:00.134783Z",
     "start_time": "2022-04-06T21:48:00.119750Z"
    }
   },
   "outputs": [
    {
     "data": {
      "text/plain": [
       "(2588, 4706, 3)"
      ]
     },
     "execution_count": 133,
     "metadata": {},
     "output_type": "execute_result"
    }
   ],
   "source": [
    "img.shape"
   ]
  },
  {
   "cell_type": "code",
   "execution_count": 134,
   "id": "7781c654",
   "metadata": {
    "ExecuteTime": {
     "end_time": "2022-04-06T21:48:00.694876Z",
     "start_time": "2022-04-06T21:48:00.587782Z"
    }
   },
   "outputs": [],
   "source": [
    "img_res = img.reshape((-1, 3))\n",
    "img_res = np.float32(img2)\n",
    "\n",
    "h = np.linspace(0, img.shape[0] - 1, img.shape[0])\n",
    "w = np.linspace(0, img.shape[1] - 1, img.shape[1])\n",
    "\n",
    "w, h = np.meshgrid(w, h)\n",
    "w = w.reshape(-1, 1)\n",
    "h = h.reshape(-1, 1)"
   ]
  },
  {
   "cell_type": "code",
   "execution_count": 135,
   "id": "b2189322",
   "metadata": {
    "ExecuteTime": {
     "end_time": "2022-04-06T21:48:09.895314Z",
     "start_time": "2022-04-06T21:48:09.016335Z"
    }
   },
   "outputs": [],
   "source": [
    "# Normalization\n",
    "\n",
    "img_res_1 = img_res/255.\n",
    "w_1 = 0.15 * w/4705.\n",
    "h_1 = 0.15 * h/2587.\n",
    "\n",
    "img_mod_1 = np.concatenate((img_res_1, h_1, w_1), axis=1)\n",
    "img_mod_1 = np.float32(img_mod_1)"
   ]
  },
  {
   "cell_type": "code",
   "execution_count": 136,
   "id": "6970e922",
   "metadata": {
    "ExecuteTime": {
     "end_time": "2022-04-06T21:48:24.553925Z",
     "start_time": "2022-04-06T21:48:11.881916Z"
    }
   },
   "outputs": [],
   "source": [
    "# We define criteria based on epsilon and number of iterations i.e. whichever is achieved first\n",
    "criteria = (cv2.TERM_CRITERIA_EPS + cv2.TermCriteria_MAX_ITER, 10, 0.1)\n",
    "# Number of clusters\n",
    "k = 4\n",
    "# Number of attempts (no. of times algo is executed using different labellings)\n",
    "attempts = 10\n",
    "\n",
    "compact, label, center = cv2.kmeans(img_mod_1, k, None, criteria, attempts, cv2.KMEANS_RANDOM_CENTERS)"
   ]
  },
  {
   "cell_type": "code",
   "execution_count": 137,
   "id": "f2e002b2",
   "metadata": {
    "ExecuteTime": {
     "end_time": "2022-04-06T21:48:54.236769Z",
     "start_time": "2022-04-06T21:48:54.220769Z"
    }
   },
   "outputs": [
    {
     "data": {
      "text/plain": [
       "array([[0.23809248, 0.1958109 , 0.31422406, 0.06906977, 0.06798584],\n",
       "       [0.9280577 , 0.9204676 , 0.9424032 , 0.06352073, 0.0734175 ],\n",
       "       [0.99995804, 0.99991465, 0.99996156, 0.07363418, 0.07413188],\n",
       "       [0.16962898, 0.12439784, 0.25162253, 0.06428799, 0.07880627]],\n",
       "      dtype=float32)"
      ]
     },
     "execution_count": 137,
     "metadata": {},
     "output_type": "execute_result"
    }
   ],
   "source": [
    "center"
   ]
  },
  {
   "cell_type": "code",
   "execution_count": 138,
   "id": "3d59515e",
   "metadata": {
    "ExecuteTime": {
     "end_time": "2022-04-06T21:48:59.445377Z",
     "start_time": "2022-04-06T21:48:59.423347Z"
    }
   },
   "outputs": [
    {
     "data": {
      "text/plain": [
       "array([[ 60,  49,  80],\n",
       "       [236, 234, 240],\n",
       "       [254, 254, 254],\n",
       "       [ 43,  31,  64]], dtype=uint8)"
      ]
     },
     "execution_count": 138,
     "metadata": {},
     "output_type": "execute_result"
    }
   ],
   "source": [
    "center_1 = np.delete(center, [3, 4], axis=1)*255\n",
    "center_1 = np.uint8(center_1)\n",
    "center_1"
   ]
  },
  {
   "cell_type": "code",
   "execution_count": 139,
   "id": "17326408",
   "metadata": {
    "ExecuteTime": {
     "end_time": "2022-04-06T21:49:06.190573Z",
     "start_time": "2022-04-06T21:49:06.178541Z"
    }
   },
   "outputs": [],
   "source": [
    "colors = [np.array([204, 0, 0]), np.array([204, 204, 0]), np.array([0, 204, 0]), \n",
    "          np.array([0, 153, 153]), np.array([102, 0, 204]), np.array([102, 0, 51]),\n",
    "         np.array([51, 153, 255])] "
   ]
  },
  {
   "cell_type": "code",
   "execution_count": 151,
   "id": "87e65a79",
   "metadata": {
    "ExecuteTime": {
     "end_time": "2022-04-06T22:02:28.656207Z",
     "start_time": "2022-04-06T22:02:02.453380Z"
    }
   },
   "outputs": [
    {
     "name": "stderr",
     "output_type": "stream",
     "text": [
      "100%|████████████████████████████████████████████████████████████████████████████████████| 4/4 [00:26<00:00,  6.55s/it]\n"
     ]
    }
   ],
   "source": [
    "for cluster_num in tqdm(range(4)):\n",
    "        new_center = np.zeros(center_1.shape)\n",
    "        for i in range(len(center_1)):\n",
    "            if i == cluster_num:\n",
    "                col = np.random.randint(0, 6)\n",
    "                new_center[i] = colors[col]\n",
    "            else:\n",
    "                new_center[i] = np.array([255, 255, 255])\n",
    "\n",
    "        new_center = np.uint8(new_center)\n",
    "        df = pd.DataFrame(label)\n",
    "        df[0] = df[0].apply(lambda x: cluster_num if x==cluster_num else cluster_num-1)\n",
    "        lab_new = np.array(df)\n",
    "        new_res = new_center[lab_new.flatten()]\n",
    "        new_res = new_res.reshape((img.shape))\n",
    "        plt.imsave(\"C:/Users/vidit/Documents/UW_Research_Mittal_Lab/Pipeline_Test_4_4_22/Individual_Clusters/19/Spatial/\" +\n",
    "                   str(cluster_num) + \".jpg\", new_res)"
   ]
  },
  {
   "cell_type": "code",
   "execution_count": 156,
   "id": "b823fb91",
   "metadata": {
    "ExecuteTime": {
     "end_time": "2022-04-06T22:08:30.171408Z",
     "start_time": "2022-04-06T22:08:30.155406Z"
    }
   },
   "outputs": [],
   "source": [
    "def merge_2_clusters(n1, n2, img):\n",
    "    \n",
    "    img_new = img.reshape((-1, 3))\n",
    "    img_req = np.zeros(img_new.shape)\n",
    "    \n",
    "    for i in tqdm(range(len(label))):\n",
    "        if label[i] == n1:\n",
    "            img_req[i] = colors[5]\n",
    "        elif label[i] == n2:\n",
    "            img_req[i] = colors[2]\n",
    "        else:\n",
    "            img_req[i] = np.array([255, 255, 255])\n",
    "            \n",
    "    plt.imsave(\"C:/Users/vidit/Documents/UW_Research_Mittal_Lab/Pipeline_Test_4_4_22/Individual_Clusters/19/Spatial/merged_cluster.jpg\", \n",
    "               np.uint8(img_req.reshape(img.shape)))\n",
    "    \n",
    "    return None"
   ]
  },
  {
   "cell_type": "code",
   "execution_count": 157,
   "id": "da3ec934",
   "metadata": {
    "ExecuteTime": {
     "end_time": "2022-04-06T22:09:35.404180Z",
     "start_time": "2022-04-06T22:08:30.745094Z"
    }
   },
   "outputs": [
    {
     "name": "stderr",
     "output_type": "stream",
     "text": [
      "100%|██████████████████████████████████████████████████████████████████| 12179128/12179128 [01:04<00:00, 189404.77it/s]\n"
     ]
    }
   ],
   "source": [
    "merge_2_clusters(0, 3, img)"
   ]
  },
  {
   "cell_type": "code",
   "execution_count": 148,
   "id": "40c2a965",
   "metadata": {
    "ExecuteTime": {
     "end_time": "2022-04-06T21:58:55.346511Z",
     "start_time": "2022-04-06T21:58:54.534700Z"
    }
   },
   "outputs": [],
   "source": [
    "mer_img = cv2.imread(\"Test_Extracted.tif\")\n",
    "\n",
    "overlay_img = cv2.addWeighted(img, 0.6, mer_img, 0.4, 0)\n",
    "\n",
    "plt.imsave(\"C:/Users/vidit/Documents/UW_Research_Mittal_Lab/Pipeline_Test_4_4_22/Individual_Clusters/19/Spatial/overlay_image.jpg\",\n",
    "           overlay_img)"
   ]
  },
  {
   "cell_type": "code",
   "execution_count": null,
   "id": "8c12ca4e",
   "metadata": {},
   "outputs": [],
   "source": []
  }
 ],
 "metadata": {
  "kernelspec": {
   "display_name": "Python 3 (ipykernel)",
   "language": "python",
   "name": "python3"
  },
  "language_info": {
   "codemirror_mode": {
    "name": "ipython",
    "version": 3
   },
   "file_extension": ".py",
   "mimetype": "text/x-python",
   "name": "python",
   "nbconvert_exporter": "python",
   "pygments_lexer": "ipython3",
   "version": "3.9.10"
  }
 },
 "nbformat": 4,
 "nbformat_minor": 5
}
